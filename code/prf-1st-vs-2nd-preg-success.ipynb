{
 "cells": [
  {
   "cell_type": "markdown",
   "id": "0da9946d-e573-4427-b64d-04fa73b3eb8d",
   "metadata": {},
   "source": [
    "# Are 2nd Pregnancies usually more successful?\n",
    "I think my initial question (How are age and first-pregnancy-success correlated)\n",
    " was too much right now - focus on comparing means first.\n",
    "\n",
    "Sample\n",
    "- Women who had at least 2 pregnancies -> look at resp data\n",
    "  - NUMPREGS (96 - 97): all ids where numpregs >= 2\n",
    "- First and Second unaborted pregnancy pairing, from preg data in nsfg\n",
    "  - OUTCOME (277 - 277): SUCCESS 1 (live) / NOT-SUCCESS: 3 (stillbirth), 4 (miscarriage), 5 (ectopic)\n",
    "  - pregordr (13 - 14): look at ( pregorder = 1, pregorder = 2 )\n",
    " \n",
    "Check:\n",
    "- Is the success rate of first pregnancies lower or higher than second pregnancies, by how much?\n"
   ]
  },
  {
   "cell_type": "markdown",
   "id": "cee72f98-c22a-4160-a0a5-b4fce4cbd663",
   "metadata": {},
   "source": [
    "Get the pregnancy and respondant data, with code from: \n",
    "    Allen B. Downey\n",
    "    MIT License: https://opensource.org/licenses/MIT"
   ]
  },
  {
   "cell_type": "code",
   "execution_count": 7,
   "id": "924ee9b4-b660-4ca7-8f73-55668efcf591",
   "metadata": {},
   "outputs": [],
   "source": [
    "from os.path import basename, exists\n",
    "def download(url):\n",
    "    filename = basename(url)\n",
    "    if not exists(filename):\n",
    "        from urllib.request import urlretrieve\n",
    "\n",
    "        local, _ = urlretrieve(url, filename)\n",
    "        print(\"Downloaded \" + local)\n",
    "\n",
    "download(\"https://github.com/AllenDowney/ThinkStats2/raw/master/code/2002FemPreg.dct\")\n",
    "download(\n",
    "    \"https://github.com/AllenDowney/ThinkStats2/raw/master/code/2002FemPreg.dat.gz\"\n",
    ")\n",
    "download(\"https://github.com/AllenDowney/ThinkStats2/raw/master/code/2002FemResp.dct\")\n",
    "download(\"https://github.com/AllenDowney/ThinkStats2/raw/master/code/2002FemResp.dat.gz\")\n",
    "\n",
    "import numpy as np\n",
    "import nsfg\n",
    "preg = nsfg.ReadFemPreg()\n",
    "resp = nsfg.ReadFemResp()"
   ]
  },
  {
   "cell_type": "code",
   "execution_count": 8,
   "id": "b6a0e7f9-b66f-45ec-a3e1-880697296577",
   "metadata": {},
   "outputs": [
    {
     "data": {
      "text/plain": [
       "outcome\n",
       "1    9148\n",
       "2    1862\n",
       "3     120\n",
       "4    1921\n",
       "5     190\n",
       "6     352\n",
       "Name: count, dtype: int64"
      ]
     },
     "execution_count": 8,
     "metadata": {},
     "output_type": "execute_result"
    }
   ],
   "source": [
    "# Verify the preg data by comparing outcomes with codebook\n",
    "def sortedValueCounts(series):\n",
    "    return series.value_counts().sort_index()\n",
    "    \n",
    "sortedValueCounts(preg.outcome)"
   ]
  },
  {
   "cell_type": "markdown",
   "id": "f8468317-21cc-482d-b4d1-f4651f85f857",
   "metadata": {},
   "source": [
    "Matches codebook, import successful!\n",
    "Check the resp data by comparing numpregs with codebook. Note, 98 means refused, *not* 98 pregnancies.\n",
    "This also matches the codebook."
   ]
  },
  {
   "cell_type": "code",
   "execution_count": 9,
   "id": "b4987124-e74b-498b-beb1-221eccddf5d9",
   "metadata": {},
   "outputs": [
    {
     "data": {
      "text/plain": [
       "numpregs\n",
       "0.0     2600\n",
       "1.0     1267\n",
       "2.0     1432\n",
       "3.0     1110\n",
       "4.0      611\n",
       "5.0      305\n",
       "6.0      150\n",
       "7.0       80\n",
       "8.0       40\n",
       "9.0       21\n",
       "10.0       9\n",
       "11.0       3\n",
       "12.0       2\n",
       "14.0       2\n",
       "19.0       1\n",
       "98.0       7\n",
       "Name: count, dtype: int64"
      ]
     },
     "execution_count": 9,
     "metadata": {},
     "output_type": "execute_result"
    }
   ],
   "source": [
    "sortedValueCounts(resp.numpregs)"
   ]
  },
  {
   "cell_type": "markdown",
   "id": "d6ddc7a9-0561-43b7-96ca-6362f3e83550",
   "metadata": {},
   "source": [
    "Next, we get our sample from the data"
   ]
  },
  {
   "cell_type": "code",
   "execution_count": 10,
   "id": "402ce3c7-2884-450a-ab67-9a275e6dde8c",
   "metadata": {},
   "outputs": [
    {
     "data": {
      "text/plain": [
       "numpregs\n",
       "2.0     1432\n",
       "3.0     1110\n",
       "4.0      611\n",
       "5.0      305\n",
       "6.0      150\n",
       "7.0       80\n",
       "8.0       40\n",
       "9.0       21\n",
       "10.0       9\n",
       "11.0       3\n",
       "12.0       2\n",
       "14.0       2\n",
       "19.0       1\n",
       "Name: count, dtype: int64"
      ]
     },
     "execution_count": 10,
     "metadata": {},
     "output_type": "execute_result"
    }
   ],
   "source": [
    "# Get a list of all respondent IDs (caseid) for whom numpregs is >= 2\n",
    "mult_preg_resp = resp[(resp.numpregs >= 2) & (resp.numpregs != 98)] \n",
    "mult_preg_ids = mult_preg_resp.caseid\n",
    "# Verify the counts\n",
    "sortedValueCounts(mult_preg_resp.numpregs)"
   ]
  },
  {
   "cell_type": "code",
   "execution_count": null,
   "id": "47c32252-6be2-412d-89e5-85707f44cfcd",
   "metadata": {},
   "outputs": [],
   "source": []
  },
  {
   "cell_type": "code",
   "execution_count": 12,
   "id": "2bc1772d-1afb-467a-9a56-a1bde5669553",
   "metadata": {},
   "outputs": [
    {
     "name": "stdout",
     "output_type": "stream",
     "text": [
      "All good\n"
     ]
    }
   ],
   "source": [
    "# Get the pregnancies that are from women who've had multiple pregnancies\n",
    "one_preg_of_mult = preg[preg.caseid.isin(mult_preg_ids)]\n",
    "\n",
    "# Verify that women who had one pregnancy are not in the list\n",
    "single_preg_ids = resp[resp.numpregs == 1].caseid\n",
    "is_in_mult = one_preg_of_mult.caseid.isin(single_preg_ids)\n",
    "if(is_in_mult.any()):\n",
    "    print(\"ERROR IN SAMPLE!\")\n",
    "else:\n",
    "    print(\"All good\")"
   ]
  },
  {
   "cell_type": "code",
   "execution_count": 46,
   "id": "c7736a81-331f-4221-9646-20dcaade9015",
   "metadata": {},
   "outputs": [
    {
     "data": {
      "text/plain": [
       "(5638, 4504, 4684)"
      ]
     },
     "execution_count": 46,
     "metadata": {},
     "output_type": "execute_result"
    }
   ],
   "source": [
    "# Filter down to pregnancies that are from women with multiple pregnancies, where\n",
    "# none of the pregnancies were aborted or unfinished\n",
    "\n",
    "first_or_second_preg = one_preg_of_mult[(one_preg_of_mult.pregordr == 1) | (one_preg_of_mult.pregordr == 2)]\n",
    "\n",
    "first_preg_successes= [] # Stores 1s for successful pregnancy, 0 for unsuccessful\n",
    "second_preg_successes= [] # Stores 1s for successful pregnancy, 0 for unsuccessful\n",
    "\n",
    "\n",
    "n_women = 0\n",
    "n_first_success = 0\n",
    "n_second_success = 0\n",
    "n_1st_s_2nd_f = 0\n",
    "n_1st_f_2nd_s = 0\n",
    "n_both_f = 0\n",
    "n_both_s = 0\n",
    "\n",
    "for id in first_or_second_preg.caseid:\n",
    "    id_preg = first_or_second_preg[first_or_second_preg.caseid == id]\n",
    "    first_id_preg = id_preg[id_preg.pregordr == 1]\n",
    "    first_outcome = first_id_preg.outcome.values[0]\n",
    "\n",
    "    second_id_preg = id_preg[id_preg.pregordr == 2]\n",
    "    second_outcome = second_id_preg.outcome.values[0]\n",
    "\n",
    "    if first_outcome == 2 or first_outcome == 6 or second_outcome == 2 or second_outcome == 6:\n",
    "        continue\n",
    "    \n",
    "    \n",
    "    pairings.append(pair_success)\n",
    "    first_preg_successes.append(first_outcome == 1)\n",
    "    second_preg_successes.append(second_outcome == 1)\n",
    "\n",
    "    # Update counts\n",
    "    n_women+=1\n",
    "    if first_outcome == 1:\n",
    "        n_first_success+=1          \n",
    "        if second_outcome == 1:\n",
    "            n_second_success+=1\n",
    "            n_both_s += 1\n",
    "        else:\n",
    "            n_1st_s_2nd_f += 1\n",
    "    else:    # first fail \n",
    "        if second_outcome == 1:\n",
    "            n_1st_f_2nd_s += 1\n",
    "            n_second_success += 1\n",
    "        else :\n",
    "            n_both_f+=1\n",
    "        \n",
    "\n",
    "(n_women, n_first_success, n_second_success)"
   ]
  },
  {
   "cell_type": "markdown",
   "id": "89e97cec-6a08-4585-a92c-fb8ce4ce4fcf",
   "metadata": {},
   "source": [
    "Calculate the mean success rate of first and second pregnancies"
   ]
  },
  {
   "cell_type": "code",
   "execution_count": 57,
   "id": "ed8ec605-a31d-493c-a0c0-770c8f6d0e4a",
   "metadata": {},
   "outputs": [
    {
     "name": "stdout",
     "output_type": "stream",
     "text": [
      "Sample size: 5638\n",
      "Two successful births: 68.32%, Two unsuccessful births: 5.36%. \n",
      "First birth successful only: 11.56%, second birth successful only: 14.76%\n",
      "\n",
      "Mean success rate of first pregnancies: 0.7989. std dev is: 0.4008\n",
      "Mean success rate of second pregnancies: 0.8308. std dev is: 0.3749\n",
      "\n",
      "T-statistic: -4.3672\n",
      "p-value: 0.0000127\n"
     ]
    }
   ],
   "source": [
    "# print counts\n",
    "print(\"Sample size: %d\" %(n_women))\n",
    "print(\"Two successful births: %2.2f%%, Two unsuccessful births: %2.2f%%. \" %((n_both_s / n_women)*100, (n_both_f / n_women)*100))\n",
    "print(\"First birth successful only: %2.2f%%, second birth successful only: %2.2f%%\" %((n_1st_s_2nd_f/n_women)*100, (n_1st_f_2nd_s/n_women)*100))\n",
    "\n",
    "# print means\n",
    "print(\"\\nMean success rate of first pregnancies: %1.4f. std dev is: %2.4f\" %(n_first_success/n_women, np.std(first_preg_successes, dtype = np.float32)))\n",
    "print(\"Mean success rate of second pregnancies: %1.4f. std dev is: %2.4f\" %(n_second_success/n_women, np.std(second_preg_successes, dtype = np.float32)))\n",
    "\n",
    "\n",
    "from scipy import stats\n",
    "# Perform two-tailed t-test (assuming unequal variances)\n",
    "t_statistic, p_value = stats.ttest_ind(first_preg_successes, second_preg_successes, equal_var=False)\n",
    "\n",
    "# Print results\n",
    "print(f\"\\nT-statistic: {t_statistic:.4f}\")\n",
    "print(f\"p-value: {p_value:.7f}\")\n",
    "\n",
    "\n"
   ]
  },
  {
   "cell_type": "markdown",
   "id": "e04b63ea-2f1d-4d12-9116-e31baf722a54",
   "metadata": {},
   "source": [
    "## Basic Analysis\n",
    "CAUTION: I am still learning statistics - this is not meant as a diffinitive answer but rather a speculative one based on practicing these skills.\n",
    "\n",
    "The means show that in this study, second pregnancies among women who had two un-aborted and completed pregnancies had greater success, %83.08 vs %79.89 (live birth occuring instead of an issue such as stillbirth, miscarriage, or ectopic pregnancy). These are both very close to each other, near %80.\n",
    "\n",
    "This analysis supports what is written on the UK's [National Childbirth Trust page](https://www.nct.org.uk/pregnancy/having-another-baby/second-baby-will-i-have-different-birth-experience-your-questions-answered) on second pregnancies :\n",
    ">The good news is that second births are much more likely to be straightforward. If you’re planning to give birth at a midwifery unit or birth centre, you have a 97% chance of a straightforward birth, compared with 76% last time."
   ]
  }
 ],
 "metadata": {
  "kernelspec": {
   "display_name": "Python 3 (ipykernel)",
   "language": "python",
   "name": "python3"
  },
  "language_info": {
   "codemirror_mode": {
    "name": "ipython",
    "version": 3
   },
   "file_extension": ".py",
   "mimetype": "text/x-python",
   "name": "python",
   "nbconvert_exporter": "python",
   "pygments_lexer": "ipython3",
   "version": "3.11.7"
  }
 },
 "nbformat": 4,
 "nbformat_minor": 5
}
