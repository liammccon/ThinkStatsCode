{
 "cells": [
  {
   "cell_type": "markdown",
   "id": "ee146f46-bbd1-4ee7-bef7-6e95018272b1",
   "metadata": {},
   "source": [
    "# How are age and first-pregnancy-success correlated?\n",
    "\n",
    "Sample\n",
    "- First pregnancies that were not aborted\n",
    "- Use preg data from nsfg and filter on:\n",
    "  - outcome: SUCCESS 1 (live) / NOT-SUCCESS: 3 (stillbirth), 4 (miscarriage), 5 (ectopic)\n",
    "  - pregordr: 1\n",
    " \n",
    "Check that the data lines up with the [file] (https://ftp.cdc.gov/pub/Health_Statistics/NCHS/Dataset_Documentation/NSFG/Cycle6Codebook-Pregnancy.pdf)"
   ]
  },
  {
   "cell_type": "code",
   "execution_count": 48,
   "id": "76bc2666-9896-4d33-9720-a40a4899f39e",
   "metadata": {},
   "outputs": [
    {
     "data": {
      "text/plain": [
       "pregordr\n",
       "1     5033\n",
       "2     3766\n",
       "3     2334\n",
       "4     1224\n",
       "5      613\n",
       "6      308\n",
       "7      158\n",
       "8       78\n",
       "9       38\n",
       "10      17\n",
       "11       8\n",
       "12       5\n",
       "13       3\n",
       "14       3\n",
       "15       1\n",
       "16       1\n",
       "17       1\n",
       "18       1\n",
       "19       1\n",
       "Name: count, dtype: int64"
      ]
     },
     "execution_count": 48,
     "metadata": {},
     "output_type": "execute_result"
    }
   ],
   "source": [
    "import nsfg\n",
    "import numpy as np\n",
    "import pandas as pd\n",
    "all_preg = nsfg.ReadFemPreg()\n",
    "all_preg.pregordr.value_counts().sort_index()"
   ]
  },
  {
   "cell_type": "code",
   "execution_count": 49,
   "id": "a29e4711-c09a-4d81-8ba0-506006024577",
   "metadata": {},
   "outputs": [
    {
     "data": {
      "text/plain": [
       "outcome\n",
       "1    9148\n",
       "2    1862\n",
       "3     120\n",
       "4    1921\n",
       "5     190\n",
       "6     352\n",
       "Name: count, dtype: int64"
      ]
     },
     "execution_count": 49,
     "metadata": {},
     "output_type": "execute_result"
    }
   ],
   "source": [
    "all_preg.outcome.value_counts().sort_index()"
   ]
  },
  {
   "cell_type": "markdown",
   "id": "29f28eb0-f79a-46f1-9000-b79f860dfc12",
   "metadata": {},
   "source": [
    "Checks out! Get my sample and check the outcomes"
   ]
  },
  {
   "cell_type": "code",
   "execution_count": 50,
   "id": "894fa36e-af9b-4050-814e-56520e9ffd47",
   "metadata": {},
   "outputs": [
    {
     "data": {
      "text/plain": [
       "outcome\n",
       "1    3368\n",
       "4     656\n",
       "5      47\n",
       "3      41\n",
       "Name: count, dtype: int64"
      ]
     },
     "execution_count": 50,
     "metadata": {},
     "output_type": "execute_result"
    }
   ],
   "source": [
    "first_preg = all_preg[all_preg.pregordr == 1]\n",
    "sample = first_preg[(first_preg.outcome == 1) | (first_preg.outcome == 3) | (first_preg.outcome == 4) | (first_preg.outcome == 5)]\n",
    "sample.outcome.value_counts()"
   ]
  },
  {
   "cell_type": "markdown",
   "id": "93cdbd44-f90a-4511-b37c-84d23052b574",
   "metadata": {},
   "source": [
    "Create new boolean column in preg for success"
   ]
  },
  {
   "cell_type": "code",
   "execution_count": 51,
   "id": "db4ce327-520d-4870-ab01-43b5329a1271",
   "metadata": {},
   "outputs": [
    {
     "name": "stderr",
     "output_type": "stream",
     "text": [
      "/var/folders/jk/9xsk94g90vj1t6z0xk7w0n5r0000gr/T/ipykernel_18731/1127156851.py:1: SettingWithCopyWarning: \n",
      "A value is trying to be set on a copy of a slice from a DataFrame.\n",
      "Try using .loc[row_indexer,col_indexer] = value instead\n",
      "\n",
      "See the caveats in the documentation: https://pandas.pydata.org/pandas-docs/stable/user_guide/indexing.html#returning-a-view-versus-a-copy\n",
      "  sample['success'] = sample.outcome == 1\n"
     ]
    },
    {
     "data": {
      "text/plain": [
       "0         True\n",
       "2         True\n",
       "5         True\n",
       "8         True\n",
       "10        True\n",
       "         ...  \n",
       "13573     True\n",
       "13576     True\n",
       "13578     True\n",
       "13580    False\n",
       "13588     True\n",
       "Name: success, Length: 4112, dtype: bool"
      ]
     },
     "execution_count": 51,
     "metadata": {},
     "output_type": "execute_result"
    }
   ],
   "source": [
    "sample['success'] = sample.outcome == 1\n",
    "sample.success"
   ]
  },
  {
   "cell_type": "code",
   "execution_count": 52,
   "id": "17404620-cdb1-4fa0-9ab5-8fc653392588",
   "metadata": {},
   "outputs": [
    {
     "data": {
      "text/plain": [
       "success\n",
       "True     3368\n",
       "False     744\n",
       "Name: count, dtype: int64"
      ]
     },
     "execution_count": 52,
     "metadata": {},
     "output_type": "execute_result"
    }
   ],
   "source": [
    "sample.success.value_counts()"
   ]
  },
  {
   "cell_type": "code",
   "execution_count": 53,
   "id": "0b8d22b6-5f6e-4b80-b697-9e3d9f4f74f1",
   "metadata": {
    "scrolled": true
   },
   "outputs": [
    {
     "data": {
      "text/plain": [
       "0.8190661478599222"
      ]
     },
     "execution_count": 53,
     "metadata": {},
     "output_type": "execute_result"
    }
   ],
   "source": [
    "# Get percentage of successful first pregnancies\n",
    "success = sample.success[sample.success == True].count()\n",
    "not_success = sample.success[sample.success == False].count()\n",
    "(success / (success + not_success) )"
   ]
  },
  {
   "cell_type": "markdown",
   "id": "80f8b500-2023-4c9e-b6c0-1f17306275b5",
   "metadata": {},
   "source": [
    "Method to get the success rate for any age"
   ]
  },
  {
   "cell_type": "code",
   "execution_count": 54,
   "id": "5c189c03-1185-44b7-b866-c77506308d17",
   "metadata": {},
   "outputs": [],
   "source": [
    "def SuccessRate(ageatend):\n",
    "    # Get percentage of successful first pregnancies\n",
    "    age_sample = sample[sample.ageatend == ageatend]\n",
    "    success = age_sample.success[age_sample.success == True].count()\n",
    "    not_success = age_sample.success[age_sample.success == False].count()\n",
    "    return (success / (success + not_success) )"
   ]
  },
  {
   "cell_type": "code",
   "execution_count": 54,
   "id": "efd4b1af-0589-43fe-b9a9-7bf2f19dcfdd",
   "metadata": {},
   "outputs": [],
   "source": []
  },
  {
   "cell_type": "code",
   "execution_count": 55,
   "id": "1b517aee-07ef-4224-ab2d-8aec88ae929c",
   "metadata": {},
   "outputs": [
    {
     "data": {
      "text/plain": [
       "156"
      ]
     },
     "execution_count": 55,
     "metadata": {},
     "output_type": "execute_result"
    }
   ],
   "source": [
    "sample.ageatend.count()"
   ]
  },
  {
   "cell_type": "code",
   "execution_count": 83,
   "id": "e003615f-1363-48e7-9106-99b5cbdadd9d",
   "metadata": {},
   "outputs": [
    {
     "data": {
      "text/plain": [
       "array([11., 12., 13., 14., 15., 16., 17., 18., 19., 20., 21., 22., 23.,\n",
       "       24., 25., 26., 27., 28., 29., 30., 31., 34., 39., 98., nan])"
      ]
     },
     "execution_count": 83,
     "metadata": {},
     "output_type": "execute_result"
    }
   ],
   "source": [
    "ages = sample.ageatend.unique()\n",
    "ages.sort()\n",
    "ages"
   ]
  },
  {
   "cell_type": "code",
   "execution_count": 93,
   "id": "715cba23-26a9-4dc0-83ec-3925ffa2c1d7",
   "metadata": {},
   "outputs": [
    {
     "ename": "IndexError",
     "evalue": "Boolean index has wrong length: 25 instead of 1",
     "output_type": "error",
     "traceback": [
      "\u001b[0;31m---------------------------------------------------------------------------\u001b[0m",
      "\u001b[0;31mIndexError\u001b[0m                                Traceback (most recent call last)",
      "Cell \u001b[0;32mIn[93], line 3\u001b[0m\n\u001b[1;32m      1\u001b[0m series \u001b[38;5;241m=\u001b[39m pd\u001b[38;5;241m.\u001b[39mSeries()\n\u001b[1;32m      2\u001b[0m series[\u001b[38;5;124m'\u001b[39m\u001b[38;5;124mage\u001b[39m\u001b[38;5;124m'\u001b[39m] \u001b[38;5;241m=\u001b[39m ages\n\u001b[0;32m----> 3\u001b[0m \u001b[38;5;28mprint\u001b[39m(series[series\u001b[38;5;241m.\u001b[39mage \u001b[38;5;241m==\u001b[39m \u001b[38;5;241m15\u001b[39m])\n\u001b[1;32m      4\u001b[0m \u001b[38;5;66;03m#for age in ages:\u001b[39;00m\n\u001b[1;32m      5\u001b[0m \u001b[38;5;66;03m#    print(series[series.age == age]['success'])\u001b[39;00m\n\u001b[1;32m      6\u001b[0m     \n\u001b[1;32m      7\u001b[0m     \u001b[38;5;66;03m# series[series.age == age]['success'] = SuccessRate(age)\u001b[39;00m\n\u001b[1;32m      8\u001b[0m series\n",
      "File \u001b[0;32m/opt/anaconda3/lib/python3.11/site-packages/pandas/core/series.py:1068\u001b[0m, in \u001b[0;36mSeries.__getitem__\u001b[0;34m(self, key)\u001b[0m\n\u001b[1;32m   1065\u001b[0m     \u001b[38;5;28;01mreturn\u001b[39;00m \u001b[38;5;28mself\u001b[39m\u001b[38;5;241m.\u001b[39m_getitem_slice(key)\n\u001b[1;32m   1067\u001b[0m \u001b[38;5;28;01mif\u001b[39;00m com\u001b[38;5;241m.\u001b[39mis_bool_indexer(key):\n\u001b[0;32m-> 1068\u001b[0m     key \u001b[38;5;241m=\u001b[39m check_bool_indexer(\u001b[38;5;28mself\u001b[39m\u001b[38;5;241m.\u001b[39mindex, key)\n\u001b[1;32m   1069\u001b[0m     key \u001b[38;5;241m=\u001b[39m np\u001b[38;5;241m.\u001b[39masarray(key, dtype\u001b[38;5;241m=\u001b[39m\u001b[38;5;28mbool\u001b[39m)\n\u001b[1;32m   1070\u001b[0m     \u001b[38;5;28;01mreturn\u001b[39;00m \u001b[38;5;28mself\u001b[39m\u001b[38;5;241m.\u001b[39m_get_rows_with_mask(key)\n",
      "File \u001b[0;32m/opt/anaconda3/lib/python3.11/site-packages/pandas/core/indexing.py:2594\u001b[0m, in \u001b[0;36mcheck_bool_indexer\u001b[0;34m(index, key)\u001b[0m\n\u001b[1;32m   2590\u001b[0m \u001b[38;5;28;01melif\u001b[39;00m \u001b[38;5;129;01mnot\u001b[39;00m is_array_like(result):\n\u001b[1;32m   2591\u001b[0m     \u001b[38;5;66;03m# GH 33924\u001b[39;00m\n\u001b[1;32m   2592\u001b[0m     \u001b[38;5;66;03m# key may contain nan elements, check_array_indexer needs bool array\u001b[39;00m\n\u001b[1;32m   2593\u001b[0m     result \u001b[38;5;241m=\u001b[39m pd_array(result, dtype\u001b[38;5;241m=\u001b[39m\u001b[38;5;28mbool\u001b[39m)\n\u001b[0;32m-> 2594\u001b[0m \u001b[38;5;28;01mreturn\u001b[39;00m check_array_indexer(index, result)\n",
      "File \u001b[0;32m/opt/anaconda3/lib/python3.11/site-packages/pandas/core/indexers/utils.py:539\u001b[0m, in \u001b[0;36mcheck_array_indexer\u001b[0;34m(array, indexer)\u001b[0m\n\u001b[1;32m    537\u001b[0m     \u001b[38;5;66;03m# GH26658\u001b[39;00m\n\u001b[1;32m    538\u001b[0m     \u001b[38;5;28;01mif\u001b[39;00m \u001b[38;5;28mlen\u001b[39m(indexer) \u001b[38;5;241m!=\u001b[39m \u001b[38;5;28mlen\u001b[39m(array):\n\u001b[0;32m--> 539\u001b[0m         \u001b[38;5;28;01mraise\u001b[39;00m \u001b[38;5;167;01mIndexError\u001b[39;00m(\n\u001b[1;32m    540\u001b[0m             \u001b[38;5;124mf\u001b[39m\u001b[38;5;124m\"\u001b[39m\u001b[38;5;124mBoolean index has wrong length: \u001b[39m\u001b[38;5;124m\"\u001b[39m\n\u001b[1;32m    541\u001b[0m             \u001b[38;5;124mf\u001b[39m\u001b[38;5;124m\"\u001b[39m\u001b[38;5;132;01m{\u001b[39;00m\u001b[38;5;28mlen\u001b[39m(indexer)\u001b[38;5;132;01m}\u001b[39;00m\u001b[38;5;124m instead of \u001b[39m\u001b[38;5;132;01m{\u001b[39;00m\u001b[38;5;28mlen\u001b[39m(array)\u001b[38;5;132;01m}\u001b[39;00m\u001b[38;5;124m\"\u001b[39m\n\u001b[1;32m    542\u001b[0m         )\n\u001b[1;32m    543\u001b[0m \u001b[38;5;28;01melif\u001b[39;00m is_integer_dtype(dtype):\n\u001b[1;32m    544\u001b[0m     \u001b[38;5;28;01mtry\u001b[39;00m:\n",
      "\u001b[0;31mIndexError\u001b[0m: Boolean index has wrong length: 25 instead of 1"
     ]
    }
   ],
   "source": [
    "\n",
    "series = pd.Series()\n",
    "series['age'] = ages\n",
    "print(series[series.age == 15])\n",
    "#for age in ages:\n",
    "#    print(series[series.age == age]['success'])\n",
    "    \n",
    "    # series[series.age == age]['success'] = SuccessRate(age)\n",
    "series"
   ]
  },
  {
   "cell_type": "code",
   "execution_count": null,
   "id": "afbca507-43d6-46f8-962c-e43cd2e9f643",
   "metadata": {},
   "outputs": [],
   "source": []
  }
 ],
 "metadata": {
  "kernelspec": {
   "display_name": "Python 3 (ipykernel)",
   "language": "python",
   "name": "python3"
  },
  "language_info": {
   "codemirror_mode": {
    "name": "ipython",
    "version": 3
   },
   "file_extension": ".py",
   "mimetype": "text/x-python",
   "name": "python",
   "nbconvert_exporter": "python",
   "pygments_lexer": "ipython3",
   "version": "3.11.7"
  }
 },
 "nbformat": 4,
 "nbformat_minor": 5
}
